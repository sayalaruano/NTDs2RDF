{
 "cells": [
  {
   "cell_type": "code",
   "execution_count": 1,
   "id": "074196f8-2b7e-44a9-a6c8-35d7c411065b",
   "metadata": {},
   "outputs": [],
   "source": [
    "import pandas as pd\n",
    "import os\n",
    "from rdflib import URIRef, Namespace, Literal, Graph\n",
    "import kglab"
   ]
  },
  {
   "cell_type": "code",
   "execution_count": 79,
   "id": "631686ec-ed7a-4763-abd5-24e033630e65",
   "metadata": {},
   "outputs": [],
   "source": [
    "# Load datasets\n",
    "genes = pd.read_csv(\"genes_NTDs.csv\")\n",
    "drugs = pd.read_csv(\"drugs_NTDs.csv\")\n",
    "go_cel = pd.read_csv(\"GO_cellularcomp_NTDs_genes.csv\")\n",
    "go_bp = pd.read_csv(\"GO_biologicalprcoess_NTDs_genes.csv\")\n",
    "go_mf = pd.read_csv(\"GO_molfunction_NTDs_genes.csv\")\n",
    "react_path = pd.read_csv(\"Reactomepaths_genes_NTDs.csv\")\n",
    "wiki_path = pd.read_csv(\"Wikipaths_genes_NTDs.csv\")"
   ]
  },
  {
   "cell_type": "code",
   "execution_count": 80,
   "id": "cd0d8d1a-35bf-48dd-97e7-a5c8b3927e0b",
   "metadata": {},
   "outputs": [],
   "source": [
    "# Define namespaces and KG\n",
    "namespaces = {\n",
    "    \"rdf\": \"http://www.w3.org/1999/02/22-rdf-syntax-ns#\",\n",
    "    \"rdfs\": \"https://www.w3.org/TR/rdf-schema/#\",\n",
    "    \"xsd\": \"http://www.w3.org/2001/XMLSchema#\",\n",
    "    \"schema\": \"https://schema.org/\",\n",
    "    \"sio\": \"http://semanticscience.org/resource/\",\n",
    "    \"ncit\": \"http://ncicb.nci.nih.gov/xml/owl/EVS/Thesaurus.owl#\",\n",
    "    \"obo\": \"http://purl.obolibrary.org/obo/\",\n",
    "    \"mesh\": \"http://purl.bioontology.org/ontology/MESH/\",\n",
    "    \"ncbigene\": \"http://bio2rdf.org/ncbigene:\",\n",
    "    \"drugbank\": \"http://bio2rdf.org/drugbank:\",\n",
    "    \"reactome\": \"http://identifiers.org/reactome/\",\n",
    "    \"wikipath\": \"http://identifiers.org/wikipathways/\"\n",
    "}\n",
    "\n",
    "kg = kglab.KnowledgeGraph(\n",
    "    name=\"NTDs_kg\",\n",
    "    namespaces=namespaces,\n",
    ")"
   ]
  },
  {
   "cell_type": "code",
   "execution_count": 81,
   "id": "efda31df-86ab-4e0e-b483-42c82c3bdcd7",
   "metadata": {},
   "outputs": [],
   "source": [
    "# Add information about genes associated to the three neglected tropical diseases (NTDs)\n",
    "for index, row in genes.iterrows():\n",
    "    gene_id = row[\"entrezgene_id\"]\n",
    "    disease_ass = row[\"MESH ID\"]\n",
    "    node1 = URIRef(str(kg.get_ns(\"ncbigene\")) + \"{}\".format(gene_id))\n",
    "    node2 = URIRef(str(kg.get_ns(\"mesh\")) + \"{}\".format(disease_ass))\n",
    "        \n",
    "    #kg.get_ns(\"mesh\").disease_ass)\n",
    "    \n",
    "    kg.add(node1, kg.get_ns(\"rdf\").type, kg.get_ns(\"ncit\").C16612)\n",
    "    \n",
    "    kg.add(node2, kg.get_ns(\"rdf\").type, kg.get_ns(\"ncit\").C7057)\n",
    "    \n",
    "    kg.add(node1, kg.get_ns(\"ncit\").C25281, node2)\n",
    "    \n",
    "    gene_symbol = row[\"hgnc_symbol\"]\n",
    "    kg.add(node1, kg.get_ns(\"sio\").SIO_000300, Literal(gene_symbol, datatype=kg.get_ns(\"xsd\").string))\n",
    "    \n",
    "    disease_name = row[\"Disease\"]\n",
    "    kg.add(node2, kg.get_ns(\"sio\").SIO_000300, Literal(disease_name, datatype=kg.get_ns(\"xsd\").string))"
   ]
  },
  {
   "cell_type": "code",
   "execution_count": 5,
   "id": "33d328b6-7420-4f2e-9e7f-2b537920f1f0",
   "metadata": {},
   "outputs": [],
   "source": [
    "# Add information about other diseases associated to the genes\n",
    "#for index, row in diseases.iterrows():\n",
    " #   gene_id = row[\"entrezgene_id\"]\n",
    "  #  disease_ass = row[\"disgenetID\"]\n",
    "   # node1 = URIRef(\"http://bio2rdf.org/ncbigene:{}\".format(gene_id))\n",
    "    #node2 = URIRef(\"http://linkedlifedata.com/resource/umls/id/{}\".format(disease_ass))\n",
    "    \n",
    "    #kg.add(node2, kg.get_ns(\"rdf\").type, kg.get_ns(\"ncit\").C7057)\n",
    "    \n",
    "    #kg.add(node1, kg.get_ns(\"ncit\").C25281, node2)\n",
    "    \n",
    "    #disease_name = row[\"description\"]\n",
    "    #kg.add(node2, kg.get_ns(\"sio\").SIO_000300, Literal(disease_name, datatype=kg.get_ns(\"xsd\").string))"
   ]
  },
  {
   "cell_type": "code",
   "execution_count": 82,
   "id": "63236171-6778-4d9b-8ad9-17b69d1d4bcd",
   "metadata": {},
   "outputs": [],
   "source": [
    "# Add information about drugs to treat the NTDs and their binding target genes\n",
    "for index, row in drugs.iterrows():\n",
    "    drug_id = row[\"Drugbank ID\"]\n",
    "    node = URIRef(str(kg.get_ns(\"drugbank\")) + \"{}\".format(drug_id))\n",
    "    kg.add(node, kg.get_ns(\"rdf\").type, kg.get_ns(\"ncit\").C1909)\n",
    "    \n",
    "    target_gene = row[\"Target_entrezgene_id\"]\n",
    "    kg.add(node, kg.get_ns(\"ncit\").C82888, URIRef(str(kg.get_ns(\"ncbigene\")) + \"{}\".format(target_gene)))\n",
    "    \n",
    "    disease_ass = row[\"MESH ID\"]\n",
    "    kg.add(node, kg.get_ns(\"ncit\").C70742, URIRef(str(kg.get_ns(\"mesh\")) + \"{}\".format(disease_ass)))\n",
    "    \n",
    "    drug_name = row[\"Drug\"]\n",
    "    kg.add(node, kg.get_ns(\"sio\").SIO_000300, Literal(drug_name, datatype=kg.get_ns(\"xsd\").string))"
   ]
  },
  {
   "cell_type": "code",
   "execution_count": 83,
   "id": "ff38eb8c-cc85-4cbb-94cb-985007b65274",
   "metadata": {},
   "outputs": [],
   "source": [
    "# Add information about cellular component gene ontologies from the genes\n",
    "for index, row in go_cel.iterrows():\n",
    "    gene_id = row[\"entrezgene_id\"]\n",
    "    go_id = row[\"go_id\"]\n",
    "    node1 = URIRef(str(kg.get_ns(\"ncbigene\")) + \"{}\".format(gene_id))\n",
    "    node2 = URIRef(str(kg.get_ns(\"obo\")) + \"{}\".format(go_id))\n",
    "    \n",
    "    kg.add(node2, kg.get_ns(\"rdf\").type, kg.get_ns(\"obo\").GO_0016043)\n",
    "    \n",
    "    kg.add(node1, kg.get_ns(\"obo\").BFO_0000050, node2)\n",
    "    \n",
    "    go_name = row[\"name_1006\"]\n",
    "    kg.add(node2, kg.get_ns(\"sio\").SIO_000300, Literal(go_name, datatype=kg.get_ns(\"xsd\").string))"
   ]
  },
  {
   "cell_type": "code",
   "execution_count": 84,
   "id": "854cbbdc-47b7-43a6-aae0-7fc8b7154401",
   "metadata": {},
   "outputs": [],
   "source": [
    "# Add information about biological processes gene ontologies from the genes\n",
    "for index, row in go_bp.iterrows():\n",
    "    gene_id = row[\"entrezgene_id\"]\n",
    "    go_id = row[\"go_id\"]\n",
    "    node1 = URIRef(str(kg.get_ns(\"ncbigene\")) + \"{}\".format(gene_id))\n",
    "    node2 = URIRef(str(kg.get_ns(\"obo\")) + \"{}\".format(go_id))\n",
    "    \n",
    "    kg.add(node2, kg.get_ns(\"rdf\").type, kg.get_ns(\"obo\").GO_0008150)\n",
    "    \n",
    "    kg.add(node1, kg.get_ns(\"obo\").BFO_0000066, node2)\n",
    "    \n",
    "    go_name = row[\"name_1006\"]\n",
    "    kg.add(node2, kg.get_ns(\"sio\").SIO_000300, Literal(go_name, datatype=kg.get_ns(\"xsd\").string))"
   ]
  },
  {
   "cell_type": "code",
   "execution_count": 85,
   "id": "05c1e363-502b-4460-ad7e-09e1d3bfb5a5",
   "metadata": {},
   "outputs": [],
   "source": [
    "# Add information about molecular functions gene ontologies from the genes\n",
    "for index, row in go_mf.iterrows():\n",
    "    gene_id = row[\"entrezgene_id\"]\n",
    "    go_id = row[\"go_id\"]\n",
    "    node1 = URIRef(str(kg.get_ns(\"ncbigene\")) + \"{}\".format(gene_id))\n",
    "    node2 = URIRef(str(kg.get_ns(\"obo\")) + \"{}\".format(go_id))\n",
    "    \n",
    "    kg.add(node2, kg.get_ns(\"rdf\").type, kg.get_ns(\"obo\").GO_0003674)\n",
    "    \n",
    "    kg.add(node1, kg.get_ns(\"obo\").RO_0002211, node2)\n",
    "    \n",
    "    go_name = row[\"name_1006\"]\n",
    "    kg.add(node2, kg.get_ns(\"sio\").SIO_000300, Literal(go_name, datatype=kg.get_ns(\"xsd\").string))"
   ]
  },
  {
   "cell_type": "code",
   "execution_count": 86,
   "id": "d71d8c30-c02c-4c17-bf13-35049ecf248b",
   "metadata": {},
   "outputs": [],
   "source": [
    "# Add information about reactome pathways associated to the genes\n",
    "for index, row in react_path.iterrows():\n",
    "    gene_id = row[\"entrezgene_id\"]\n",
    "    path_id = row[\"reactpathID\"]\n",
    "    node1 = URIRef(str(kg.get_ns(\"ncbigene\")) + \"{}\".format(gene_id))\n",
    "    node2 = URIRef(str(kg.get_ns(\"reactome\")) + \"{}\".format(path_id))\n",
    "    \n",
    "    kg.add(node2, kg.get_ns(\"rdf\").type, kg.get_ns(\"ncit\").C54214)\n",
    "    \n",
    "    kg.add(node1, kg.get_ns(\"obo\").BFO_0000050, node2)\n",
    "    \n",
    "    go_name = row[\"description\"]\n",
    "    kg.add(node2, kg.get_ns(\"sio\").SIO_000300, Literal(go_name, datatype=kg.get_ns(\"xsd\").string))"
   ]
  },
  {
   "cell_type": "code",
   "execution_count": 87,
   "id": "80933a5c-e159-4c0a-94b2-c3209eaffc4e",
   "metadata": {},
   "outputs": [],
   "source": [
    "# Add information about pathways from wikipathways associated to the genes\n",
    "for index, row in wiki_path.iterrows():\n",
    "    gene_id = row[\"entrezgene_id\"]\n",
    "    path_id = row[\"wikipathID\"]\n",
    "    node1 = URIRef(\"http://bio2rdf.org/ncbigene:{}\".format(gene_id))\n",
    "    node2 = URIRef(str(kg.get_ns(\"wikipath\")) + \"{}\".format(path_id))\n",
    "    \n",
    "    kg.add(node2, kg.get_ns(\"rdf\").type, kg.get_ns(\"ncit\").C54214)\n",
    "    \n",
    "    kg.add(node1, kg.get_ns(\"obo\").BFO_0000050, node2)\n",
    "    \n",
    "    go_name = row[\"description\"]\n",
    "    kg.add(node2, kg.get_ns(\"sio\").SIO_000300, Literal(go_name, datatype=kg.get_ns(\"xsd\").string))"
   ]
  },
  {
   "cell_type": "code",
   "execution_count": 88,
   "id": "28749138-5fdc-41a0-82f8-5968ada4c250",
   "metadata": {},
   "outputs": [],
   "source": [
    "# Export kg\n",
    "kg.save_rdf(\"./Data/RDF_graphs/NTDs_kg.ttl\", format=\"ttl\", base=None, encoding=\"utf-8\")\n",
    "kg.save_rdf(\"./Data/RDF_graphs/NTDs_kg.nt\", format=\"nt\", base=None, encoding=\"utf-8\")"
   ]
  },
  {
   "cell_type": "code",
   "execution_count": 89,
   "id": "bd7adcb5-b7b2-48fe-9e8c-71b6edce8e54",
   "metadata": {},
   "outputs": [
    {
     "data": {
      "text/plain": [
       "<Graph identifier=N204d794cc6e544ebb2c35eede8274e4b (<class 'rdflib.graph.Graph'>)>"
      ]
     },
     "execution_count": 89,
     "metadata": {},
     "output_type": "execute_result"
    }
   ],
   "source": [
    "# Load NTDs kg with rdflib\n",
    "g = Graph()\n",
    "g.parse(\"Data/RDF_graphs/NTDs_kg.ttl\")"
   ]
  },
  {
   "cell_type": "code",
   "execution_count": 90,
   "id": "fe7a5a07-0d56-4c41-91bf-0b9703e901a4",
   "metadata": {},
   "outputs": [
    {
     "name": "stdout",
     "output_type": "stream",
     "text": [
      "graph has 22085 facts\n"
     ]
    }
   ],
   "source": [
    "# Print lenght of the graph\n",
    "print(f'graph has {len(g)} facts')"
   ]
  },
  {
   "cell_type": "code",
   "execution_count": 226,
   "id": "2cdf6e6d-eb83-40a5-800c-05f5f92a0bfa",
   "metadata": {},
   "outputs": [],
   "source": [
    "# Parse additional information from Bio2RDF\n",
    "for i in genes[\"entrezgene_id\"]:\n",
    "    #print(('http://bio2rdf.org/' + 'ncbigene:' + str(i)))\n",
    "    g.parse('http://bio2rdf.org/' + 'ncbigene:' + str(i))"
   ]
  },
  {
   "cell_type": "code",
   "execution_count": 227,
   "id": "e8e9525f-24ee-4658-a37e-2b384c29f41e",
   "metadata": {},
   "outputs": [
    {
     "name": "stdout",
     "output_type": "stream",
     "text": [
      "graph has 222253 facts\n"
     ]
    }
   ],
   "source": [
    "# Print lenght of the graph\n",
    "print(f'graph has {len(g)} facts')"
   ]
  },
  {
   "cell_type": "code",
   "execution_count": 228,
   "id": "362c54ff-b4bb-4d20-ab45-79964ce0de8e",
   "metadata": {},
   "outputs": [
    {
     "data": {
      "text/plain": [
       "<Graph identifier=N7c752e50b0884761b0e840b694a89d66 (<class 'rdflib.graph.Graph'>)>"
      ]
     },
     "execution_count": 228,
     "metadata": {},
     "output_type": "execute_result"
    }
   ],
   "source": [
    "# Export final kg\n",
    "g.serialize(destination='NTDs_kg2.ttl', format='turtle')"
   ]
  }
 ],
 "metadata": {
  "kernelspec": {
   "display_name": "Python 3 (ipykernel)",
   "language": "python",
   "name": "python3"
  },
  "language_info": {
   "codemirror_mode": {
    "name": "ipython",
    "version": 3
   },
   "file_extension": ".py",
   "mimetype": "text/x-python",
   "name": "python",
   "nbconvert_exporter": "python",
   "pygments_lexer": "ipython3",
   "version": "3.11.0"
  }
 },
 "nbformat": 4,
 "nbformat_minor": 5
}
