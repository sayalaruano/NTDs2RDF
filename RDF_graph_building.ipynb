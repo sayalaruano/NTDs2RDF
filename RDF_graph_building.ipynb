{
 "cells": [
  {
   "cell_type": "code",
   "execution_count": 81,
   "id": "074196f8-2b7e-44a9-a6c8-35d7c411065b",
   "metadata": {},
   "outputs": [],
   "source": [
    "import pandas as pd\n",
    "import os\n",
    "from rdflib import URIRef, Namespace, Literal, Graph\n",
    "import kglab"
   ]
  },
  {
   "cell_type": "code",
   "execution_count": 82,
   "id": "631686ec-ed7a-4763-abd5-24e033630e65",
   "metadata": {},
   "outputs": [],
   "source": [
    "# Load datasets\n",
    "genes = pd.read_csv(\"Data/CSV_files/genes_NTDs.csv\")\n",
    "drugs = pd.read_csv(\"Data/CSV_files/drugs_NTDs.csv\")\n",
    "go_cel = pd.read_csv(\"Data/CSV_files/GO_cellularcomp_NTDs_genes.csv\")\n",
    "go_bp = pd.read_csv(\"Data/CSV_files/GO_biologicalprcoess_NTDs_genes.csv\")\n",
    "go_mf = pd.read_csv(\"Data/CSV_files/GO_molfunction_NTDs_genes.csv\")\n",
    "react_path = pd.read_csv(\"Data/CSV_files/Reactomepaths_genes_NTDs.csv\")\n",
    "wiki_path = pd.read_csv(\"Data/CSV_files/Wikipaths_genes_NTDs.csv\")\n",
    "proteins = pd.read_csv(\"Data/CSV_files/NTDs_proteins.csv\")\n",
    "domains = pd.read_csv(\"Data/CSV_files/Domains_NTDs_proteins.csv\")\n",
    "variants = pd.read_csv(\"Data/CSV_files/Variants_NTDs.csv\")"
   ]
  },
  {
   "cell_type": "code",
   "execution_count": 83,
   "id": "cd0d8d1a-35bf-48dd-97e7-a5c8b3927e0b",
   "metadata": {},
   "outputs": [],
   "source": [
    "# Define namespaces and KG\n",
    "namespaces = {\n",
    "    \"rdf\": \"http://www.w3.org/1999/02/22-rdf-syntax-ns#\",\n",
    "    \"rdfs\": \"https://www.w3.org/TR/rdf-schema/#\",\n",
    "    \"xsd\": \"http://www.w3.org/2001/XMLSchema#\",\n",
    "    \"schema\": \"https://schema.org/\",\n",
    "    \"sio\": \"http://semanticscience.org/resource/\",\n",
    "    \"ncit\": \"http://ncicb.nci.nih.gov/xml/owl/EVS/Thesaurus.owl#\",\n",
    "    \"obo\": \"http://purl.obolibrary.org/obo/\",\n",
    "    \"mesh\": \"http://purl.bioontology.org/ontology/MESH/\",\n",
    "    \"ncbigene\": \"http://bio2rdf.org/ncbigene:\",\n",
    "    \"drugbank\": \"http://bio2rdf.org/drugbank:\",\n",
    "    \"reactome\": \"http://identifiers.org/reactome/\",\n",
    "    \"wikipath\": \"http://identifiers.org/wikipathways/\",\n",
    "    \"uniprot\": \"https://bio2rdf.org/uniprot:\",\n",
    "    \"interpro\": \"https://bio2rdf.org/interpro:\",\n",
    "    \"pharmgkb\": \"https://bio2rdf.org/pharmgkb:\",\n",
    "    \"dbsnp\": \"https://bio2rdf.org/dbsnp\"\n",
    "}\n",
    "\n",
    "kg = kglab.KnowledgeGraph(\n",
    "    name=\"NTDs_kg\",\n",
    "    namespaces=namespaces,\n",
    ")"
   ]
  },
  {
   "cell_type": "code",
   "execution_count": 85,
   "id": "efda31df-86ab-4e0e-b483-42c82c3bdcd7",
   "metadata": {},
   "outputs": [],
   "source": [
    "# Add information about genes associated to the three neglected tropical diseases (NTDs)\n",
    "for index, row in genes.iterrows():\n",
    "    gene_id = row[\"entrezgene_id\"]\n",
    "    disease_ass = row[\"MESH ID\"]\n",
    "    node1 = URIRef(str(kg.get_ns(\"ncbigene\")) + \"{}\".format(gene_id))\n",
    "    node2 = URIRef(str(kg.get_ns(\"mesh\")) + \"{}\".format(disease_ass))\n",
    "        \n",
    "    #kg.get_ns(\"mesh\").disease_ass)\n",
    "    \n",
    "    kg.add(node1, kg.get_ns(\"rdf\").type, kg.get_ns(\"ncit\").C16612)\n",
    "    \n",
    "    kg.add(node2, kg.get_ns(\"rdf\").type, kg.get_ns(\"ncit\").C7057)\n",
    "    \n",
    "    kg.add(node1, kg.get_ns(\"ncit\").C25281, node2)\n",
    "    \n",
    "    gene_symbol = row[\"hgnc_symbol\"]\n",
    "    kg.add(node1, kg.get_ns(\"sio\").SIO_000300, Literal(gene_symbol, datatype=kg.get_ns(\"xsd\").string))\n",
    "    \n",
    "    disease_name = row[\"Disease\"]\n",
    "    kg.add(node2, kg.get_ns(\"sio\").SIO_000300, Literal(disease_name, datatype=kg.get_ns(\"xsd\").string))"
   ]
  },
  {
   "cell_type": "code",
   "execution_count": 86,
   "id": "16d38ba2-2e68-4383-bab8-9bbe5c9a8a26",
   "metadata": {},
   "outputs": [],
   "source": [
    "# Add information about proteins encoded by genes \n",
    "for index, row in proteins.iterrows():\n",
    "    gene_id = row[\"entrezgene_id\"]\n",
    "    uniprot_id = row[\"uniprotswissprot\"]\n",
    "    node1 = URIRef(str(kg.get_ns(\"ncbigene\")) + \"{}\".format(gene_id))\n",
    "    node2 = URIRef(str(kg.get_ns(\"uniprot\")) + \"{}\".format(uniprot_id))\n",
    "    \n",
    "    kg.add(node2, kg.get_ns(\"rdf\").type, kg.get_ns(\"ncit\").C17021)\n",
    "    \n",
    "    kg.add(node1, kg.get_ns(\"sio\").SIO_010078, node2)\n",
    "    \n",
    "    protein_name = row[\"hgnc_symbol\"]\n",
    "    kg.add(node2, kg.get_ns(\"sio\").SIO_000300, Literal(protein_name, datatype=kg.get_ns(\"xsd\").string))"
   ]
  },
  {
   "cell_type": "code",
   "execution_count": 87,
   "id": "6442cd9e-6a22-4819-af66-5eca68267c4f",
   "metadata": {},
   "outputs": [],
   "source": [
    "# Add information about proteins domains\n",
    "for index, row in domains.iterrows():\n",
    "    uniprot_id = row[\"uniprotswissprot\"]\n",
    "    interpro_id = row[\"interpro\"]\n",
    "    node1 = URIRef(str(kg.get_ns(\"uniprot\")) + \"{}\".format(uniprot_id))\n",
    "    node2 = URIRef(str(kg.get_ns(\"interpro\")) + \"{}\".format(interpro_id))\n",
    "    \n",
    "    kg.add(node2, kg.get_ns(\"rdf\").type, kg.get_ns(\"ncit\").C13379)\n",
    "    \n",
    "    kg.add(node1, kg.get_ns(\"sio\").SIO_000202, node2)\n",
    "    \n",
    "    domain_name = row[\"interpro_description\"]\n",
    "    kg.add(node2, kg.get_ns(\"sio\").SIO_000300, Literal(domain_name, datatype=kg.get_ns(\"xsd\").string))"
   ]
  },
  {
   "cell_type": "code",
   "execution_count": 88,
   "id": "63236171-6778-4d9b-8ad9-17b69d1d4bcd",
   "metadata": {},
   "outputs": [],
   "source": [
    "# Add information about drugs to treat the NTDs and their binding target proteins\n",
    "for index, row in drugs.iterrows():\n",
    "    drug_id = row[\"Drugbank.ID\"]\n",
    "    node = URIRef(str(kg.get_ns(\"drugbank\")) + \"{}\".format(drug_id))\n",
    "    kg.add(node, kg.get_ns(\"rdf\").type, kg.get_ns(\"ncit\").C1909)\n",
    "    \n",
    "    target_protein = row[\"uniprotswissprot\"]\n",
    "    kg.add(node, kg.get_ns(\"ncit\").C82888, URIRef(str(kg.get_ns(\"uniprot\")) + \"{}\".format(target_protein)))\n",
    "    \n",
    "    disease_ass = row[\"MESH.ID\"]\n",
    "    kg.add(node, kg.get_ns(\"ncit\").C70742, URIRef(str(kg.get_ns(\"mesh\")) + \"{}\".format(disease_ass)))\n",
    "    \n",
    "    drug_name = row[\"Drug\"]\n",
    "    kg.add(node, kg.get_ns(\"sio\").SIO_000300, Literal(drug_name, datatype=kg.get_ns(\"xsd\").string))"
   ]
  },
  {
   "cell_type": "code",
   "execution_count": 89,
   "id": "ff38eb8c-cc85-4cbb-94cb-985007b65274",
   "metadata": {},
   "outputs": [],
   "source": [
    "# Add information about cellular component gene ontologies from the genes\n",
    "for index, row in go_cel.iterrows():\n",
    "    gene_id = row[\"entrezgene_id\"]\n",
    "    go_id = row[\"go_id\"]\n",
    "    node1 = URIRef(str(kg.get_ns(\"ncbigene\")) + \"{}\".format(gene_id))\n",
    "    node2 = URIRef(str(kg.get_ns(\"obo\")) + \"{}\".format(go_id))\n",
    "    \n",
    "    kg.add(node2, kg.get_ns(\"rdf\").type, kg.get_ns(\"obo\").GO_0016043)\n",
    "    \n",
    "    kg.add(node1, kg.get_ns(\"obo\").BFO_0000050, node2)\n",
    "    \n",
    "    go_name = row[\"name_1006\"]\n",
    "    kg.add(node2, kg.get_ns(\"sio\").SIO_000300, Literal(go_name, datatype=kg.get_ns(\"xsd\").string))"
   ]
  },
  {
   "cell_type": "code",
   "execution_count": 90,
   "id": "854cbbdc-47b7-43a6-aae0-7fc8b7154401",
   "metadata": {},
   "outputs": [],
   "source": [
    "# Add information about biological processes gene ontologies from the genes\n",
    "for index, row in go_bp.iterrows():\n",
    "    gene_id = row[\"entrezgene_id\"]\n",
    "    go_id = row[\"go_id\"]\n",
    "    node1 = URIRef(str(kg.get_ns(\"ncbigene\")) + \"{}\".format(gene_id))\n",
    "    node2 = URIRef(str(kg.get_ns(\"obo\")) + \"{}\".format(go_id))\n",
    "    \n",
    "    kg.add(node2, kg.get_ns(\"rdf\").type, kg.get_ns(\"obo\").GO_0008150)\n",
    "    \n",
    "    kg.add(node1, kg.get_ns(\"obo\").BFO_0000066, node2)\n",
    "    \n",
    "    go_name = row[\"name_1006\"]\n",
    "    kg.add(node2, kg.get_ns(\"sio\").SIO_000300, Literal(go_name, datatype=kg.get_ns(\"xsd\").string))"
   ]
  },
  {
   "cell_type": "code",
   "execution_count": 91,
   "id": "05c1e363-502b-4460-ad7e-09e1d3bfb5a5",
   "metadata": {},
   "outputs": [],
   "source": [
    "# Add information about molecular functions gene ontologies from the genes\n",
    "for index, row in go_mf.iterrows():\n",
    "    gene_id = row[\"entrezgene_id\"]\n",
    "    go_id = row[\"go_id\"]\n",
    "    node1 = URIRef(str(kg.get_ns(\"ncbigene\")) + \"{}\".format(gene_id))\n",
    "    node2 = URIRef(str(kg.get_ns(\"obo\")) + \"{}\".format(go_id))\n",
    "    \n",
    "    kg.add(node2, kg.get_ns(\"rdf\").type, kg.get_ns(\"obo\").GO_0003674)\n",
    "    \n",
    "    kg.add(node1, kg.get_ns(\"obo\").RO_0002211, node2)\n",
    "    \n",
    "    go_name = row[\"name_1006\"]\n",
    "    kg.add(node2, kg.get_ns(\"sio\").SIO_000300, Literal(go_name, datatype=kg.get_ns(\"xsd\").string))"
   ]
  },
  {
   "cell_type": "code",
   "execution_count": 92,
   "id": "d71d8c30-c02c-4c17-bf13-35049ecf248b",
   "metadata": {},
   "outputs": [],
   "source": [
    "# Add information about reactome pathways associated to the genes\n",
    "for index, row in react_path.iterrows():\n",
    "    gene_id = row[\"entrezgene_id\"]\n",
    "    path_id = row[\"reactpathID\"]\n",
    "    node1 = URIRef(str(kg.get_ns(\"ncbigene\")) + \"{}\".format(gene_id))\n",
    "    node2 = URIRef(str(kg.get_ns(\"reactome\")) + \"{}\".format(path_id))\n",
    "    \n",
    "    kg.add(node2, kg.get_ns(\"rdf\").type, kg.get_ns(\"ncit\").C54214)\n",
    "    \n",
    "    kg.add(node1, kg.get_ns(\"obo\").BFO_0000050, node2)\n",
    "    \n",
    "    go_name = row[\"description\"]\n",
    "    kg.add(node2, kg.get_ns(\"sio\").SIO_000300, Literal(go_name, datatype=kg.get_ns(\"xsd\").string))"
   ]
  },
  {
   "cell_type": "code",
   "execution_count": 93,
   "id": "80933a5c-e159-4c0a-94b2-c3209eaffc4e",
   "metadata": {},
   "outputs": [],
   "source": [
    "# Add information about pathways from wikipathways associated to the genes\n",
    "for index, row in wiki_path.iterrows():\n",
    "    gene_id = row[\"entrezgene_id\"]\n",
    "    path_id = row[\"wikipathID\"]\n",
    "    node1 = URIRef(str(kg.get_ns(\"ncbigene\")) + \"{}\".format(gene_id))\n",
    "    node2 = URIRef(str(kg.get_ns(\"wikipath\")) + \"{}\".format(path_id))\n",
    "    \n",
    "    kg.add(node2, kg.get_ns(\"rdf\").type, kg.get_ns(\"ncit\").C54214)\n",
    "    \n",
    "    kg.add(node1, kg.get_ns(\"obo\").BFO_0000050, node2)\n",
    "    \n",
    "    go_name = row[\"description\"]\n",
    "    kg.add(node2, kg.get_ns(\"sio\").SIO_000300, Literal(go_name, datatype=kg.get_ns(\"xsd\").string))"
   ]
  },
  {
   "cell_type": "code",
   "execution_count": 77,
   "id": "ba2917b4-a856-41ff-9c4f-daa514629b7a",
   "metadata": {},
   "outputs": [
    {
     "data": {
      "text/html": [
       "<div>\n",
       "<style scoped>\n",
       "    .dataframe tbody tr th:only-of-type {\n",
       "        vertical-align: middle;\n",
       "    }\n",
       "\n",
       "    .dataframe tbody tr th {\n",
       "        vertical-align: top;\n",
       "    }\n",
       "\n",
       "    .dataframe thead th {\n",
       "        text-align: right;\n",
       "    }\n",
       "</style>\n",
       "<table border=\"1\" class=\"dataframe\">\n",
       "  <thead>\n",
       "    <tr style=\"text-align: right;\">\n",
       "      <th></th>\n",
       "      <th>chemicals</th>\n",
       "      <th>gene</th>\n",
       "      <th>variant</th>\n",
       "      <th>type</th>\n",
       "      <th>level.of.evidence</th>\n",
       "      <th>phenotypes</th>\n",
       "      <th>chr_name</th>\n",
       "      <th>allele</th>\n",
       "      <th>entrezgene_id</th>\n",
       "      <th>PharmGKB_ID</th>\n",
       "    </tr>\n",
       "  </thead>\n",
       "  <tbody>\n",
       "    <tr>\n",
       "      <th>0</th>\n",
       "      <td>calcium channel blockers</td>\n",
       "      <td>ACE</td>\n",
       "      <td>rs1799752</td>\n",
       "      <td>Other</td>\n",
       "      <td>3</td>\n",
       "      <td>Headache Disorders</td>\n",
       "      <td>17</td>\n",
       "      <td>ATACAGTCACTTTT/ATACAGTCACTTTTTTTTTTTTTTTGAGACG...</td>\n",
       "      <td>1636</td>\n",
       "      <td>PA10407</td>\n",
       "    </tr>\n",
       "    <tr>\n",
       "      <th>1</th>\n",
       "      <td>calcium channel blockers</td>\n",
       "      <td>ACE</td>\n",
       "      <td>rs1799752</td>\n",
       "      <td>Other</td>\n",
       "      <td>3</td>\n",
       "      <td>Migraine with Aura</td>\n",
       "      <td>17</td>\n",
       "      <td>ATACAGTCACTTTT/ATACAGTCACTTTTTTTTTTTTTTTGAGACG...</td>\n",
       "      <td>1636</td>\n",
       "      <td>PA10407</td>\n",
       "    </tr>\n",
       "    <tr>\n",
       "      <th>2</th>\n",
       "      <td>calcium channel blockers</td>\n",
       "      <td>ACE</td>\n",
       "      <td>rs1799752</td>\n",
       "      <td>Other</td>\n",
       "      <td>3</td>\n",
       "      <td>Migraine without Aura</td>\n",
       "      <td>17</td>\n",
       "      <td>ATACAGTCACTTTT/ATACAGTCACTTTTTTTTTTTTTTTGAGACG...</td>\n",
       "      <td>1636</td>\n",
       "      <td>PA10407</td>\n",
       "    </tr>\n",
       "    <tr>\n",
       "      <th>3</th>\n",
       "      <td>capecitabine</td>\n",
       "      <td>ABCB1</td>\n",
       "      <td>rs1045642</td>\n",
       "      <td>Toxicity</td>\n",
       "      <td>3</td>\n",
       "      <td>Neoplasms</td>\n",
       "      <td>7</td>\n",
       "      <td>A/C/G/T</td>\n",
       "      <td>5243</td>\n",
       "      <td>PA448771</td>\n",
       "    </tr>\n",
       "    <tr>\n",
       "      <th>4</th>\n",
       "      <td>capecitabine</td>\n",
       "      <td>ABCG2</td>\n",
       "      <td>rs2231142</td>\n",
       "      <td>Efficacy</td>\n",
       "      <td>4</td>\n",
       "      <td>Colorectal Neoplasms</td>\n",
       "      <td>4</td>\n",
       "      <td>G/C/T</td>\n",
       "      <td>9429</td>\n",
       "      <td>PA448771</td>\n",
       "    </tr>\n",
       "  </tbody>\n",
       "</table>\n",
       "</div>"
      ],
      "text/plain": [
       "                  chemicals   gene    variant      type level.of.evidence  \\\n",
       "0  calcium channel blockers    ACE  rs1799752     Other                 3   \n",
       "1  calcium channel blockers    ACE  rs1799752     Other                 3   \n",
       "2  calcium channel blockers    ACE  rs1799752     Other                 3   \n",
       "3              capecitabine  ABCB1  rs1045642  Toxicity                 3   \n",
       "4              capecitabine  ABCG2  rs2231142  Efficacy                 4   \n",
       "\n",
       "              phenotypes  chr_name  \\\n",
       "0     Headache Disorders        17   \n",
       "1     Migraine with Aura        17   \n",
       "2  Migraine without Aura        17   \n",
       "3              Neoplasms         7   \n",
       "4   Colorectal Neoplasms         4   \n",
       "\n",
       "                                              allele  entrezgene_id  \\\n",
       "0  ATACAGTCACTTTT/ATACAGTCACTTTTTTTTTTTTTTTGAGACG...           1636   \n",
       "1  ATACAGTCACTTTT/ATACAGTCACTTTTTTTTTTTTTTTGAGACG...           1636   \n",
       "2  ATACAGTCACTTTT/ATACAGTCACTTTTTTTTTTTTTTTGAGACG...           1636   \n",
       "3                                            A/C/G/T           5243   \n",
       "4                                              G/C/T           9429   \n",
       "\n",
       "  PharmGKB_ID  \n",
       "0     PA10407  \n",
       "1     PA10407  \n",
       "2     PA10407  \n",
       "3    PA448771  \n",
       "4    PA448771  "
      ]
     },
     "execution_count": 77,
     "metadata": {},
     "output_type": "execute_result"
    }
   ],
   "source": [
    "variants.head()"
   ]
  },
  {
   "cell_type": "code",
   "execution_count": 94,
   "id": "a85b2ae8-c642-4dda-9c5e-4094c57748ca",
   "metadata": {},
   "outputs": [],
   "source": [
    "# Add information about variants associated to genes\n",
    "for index, row in variants.iterrows():\n",
    "    gene_id = row[\"entrezgene_id\"]\n",
    "    SNP_id = row[\"variant\"]\n",
    "    drug_id = row[\"PharmGKB_ID\"]\n",
    "    node1 = URIRef(str(kg.get_ns(\"ncbigene\")) + \"{}\".format(gene_id))\n",
    "    node2 = URIRef(str(kg.get_ns(\"dbsnp\")) + \"{}\".format(SNP_id))\n",
    "    node3 = URIRef(str(kg.get_ns(\"pharmgkb\")) + \"{}\".format(drug_id))\n",
    "    \n",
    "    kg.add(node2, kg.get_ns(\"rdf\").type, kg.get_ns(\"obo\").SO_0000694)\n",
    "    \n",
    "    kg.add(node1, kg.get_ns(\"ncit\").C25281, node2)\n",
    "    \n",
    "    kg.add(node2, kg.get_ns(\"ncit\").C25281, node3)\n",
    "    \n",
    "    chr_name = row[\"chr_name\"]\n",
    "    kg.add(node2, kg.get_ns(\"sio\").SIO_000061, Literal(chr_name, datatype=kg.get_ns(\"xsd\").integer))\n",
    "    \n",
    "    allele = row[\"allele\"]\n",
    "    kg.add(node2, kg.get_ns(\"sio\").SIO_000223, Literal(allele, datatype=kg.get_ns(\"xsd\").string))\n",
    "    \n",
    "    phen = row[\"phenotypes\"]\n",
    "    kg.add(node2, kg.get_ns(\"sio\").SIO_000223, Literal(phen, datatype=kg.get_ns(\"xsd\").string))\n",
    "    "
   ]
  },
  {
   "cell_type": "code",
   "execution_count": 53,
   "id": "3fde5ae0-c5dd-476a-983d-f11b013cd258",
   "metadata": {},
   "outputs": [],
   "source": [
    "# Add information about other diseases associated to the genes\n",
    "#for index, row in diseases.iterrows():\n",
    " #   gene_id = row[\"entrezgene_id\"]\n",
    "  #  disease_ass = row[\"disgenetID\"]\n",
    "   # node1 = URIRef(\"http://bio2rdf.org/ncbigene:{}\".format(gene_id))\n",
    "    #node2 = URIRef(\"http://linkedlifedata.com/resource/umls/id/{}\".format(disease_ass))\n",
    "    \n",
    "    #kg.add(node2, kg.get_ns(\"rdf\").type, kg.get_ns(\"ncit\").C7057)\n",
    "    \n",
    "    #kg.add(node1, kg.get_ns(\"ncit\").C25281, node2)\n",
    "    \n",
    "    #disease_name = row[\"description\"]\n",
    "    #kg.add(node2, kg.get_ns(\"sio\").SIO_000300, Literal(disease_name, datatype=kg.get_ns(\"xsd\").string))"
   ]
  },
  {
   "cell_type": "code",
   "execution_count": 95,
   "id": "28749138-5fdc-41a0-82f8-5968ada4c250",
   "metadata": {},
   "outputs": [],
   "source": [
    "# Export kg\n",
    "kg.save_rdf(\"./Data/RDF_graphs/NTDs_kg.ttl\", format=\"ttl\", base=None, encoding=\"utf-8\")\n",
    "kg.save_rdf(\"./Data/RDF_graphs/NTDs_kg.nt\", format=\"nt\", base=None, encoding=\"utf-8\")"
   ]
  },
  {
   "cell_type": "code",
   "execution_count": 98,
   "id": "bd7adcb5-b7b2-48fe-9e8c-71b6edce8e54",
   "metadata": {},
   "outputs": [
    {
     "data": {
      "text/plain": [
       "<Graph identifier=Nd0e5d8629bf545199b573dda659878d9 (<class 'rdflib.graph.Graph'>)>"
      ]
     },
     "execution_count": 98,
     "metadata": {},
     "output_type": "execute_result"
    }
   ],
   "source": [
    "# Load NTDs kg with rdflib\n",
    "g = Graph()\n",
    "g.parse(\"Data/RDF_graphs/NTDs_kg.ttl\")"
   ]
  },
  {
   "cell_type": "code",
   "execution_count": 99,
   "id": "fe7a5a07-0d56-4c41-91bf-0b9703e901a4",
   "metadata": {},
   "outputs": [
    {
     "name": "stdout",
     "output_type": "stream",
     "text": [
      "graph has 27705 facts\n"
     ]
    }
   ],
   "source": [
    "# Print lenght of the graph\n",
    "print(f'graph has {len(g)} facts')"
   ]
  },
  {
   "cell_type": "code",
   "execution_count": 226,
   "id": "2cdf6e6d-eb83-40a5-800c-05f5f92a0bfa",
   "metadata": {},
   "outputs": [],
   "source": [
    "# Parse additional information from Bio2RDF\n",
    "for i in genes[\"entrezgene_id\"]:\n",
    "    #print(('http://bio2rdf.org/' + 'ncbigene:' + str(i)))\n",
    "    g.parse('http://bio2rdf.org/' + 'ncbigene:' + str(i))"
   ]
  },
  {
   "cell_type": "code",
   "execution_count": 227,
   "id": "e8e9525f-24ee-4658-a37e-2b384c29f41e",
   "metadata": {},
   "outputs": [
    {
     "name": "stdout",
     "output_type": "stream",
     "text": [
      "graph has 222253 facts\n"
     ]
    }
   ],
   "source": [
    "# Print lenght of the graph\n",
    "print(f'graph has {len(g)} facts')"
   ]
  },
  {
   "cell_type": "code",
   "execution_count": 228,
   "id": "362c54ff-b4bb-4d20-ab45-79964ce0de8e",
   "metadata": {},
   "outputs": [
    {
     "data": {
      "text/plain": [
       "<Graph identifier=N7c752e50b0884761b0e840b694a89d66 (<class 'rdflib.graph.Graph'>)>"
      ]
     },
     "execution_count": 228,
     "metadata": {},
     "output_type": "execute_result"
    }
   ],
   "source": [
    "# Export final kg\n",
    "g.serialize(destination='NTDs_kg2.ttl', format='turtle')"
   ]
  }
 ],
 "metadata": {
  "kernelspec": {
   "display_name": "Python 3 (ipykernel)",
   "language": "python",
   "name": "python3"
  },
  "language_info": {
   "codemirror_mode": {
    "name": "ipython",
    "version": 3
   },
   "file_extension": ".py",
   "mimetype": "text/x-python",
   "name": "python",
   "nbconvert_exporter": "python",
   "pygments_lexer": "ipython3",
   "version": "3.11.0"
  }
 },
 "nbformat": 4,
 "nbformat_minor": 5
}
